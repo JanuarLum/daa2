{
  "nbformat": 4,
  "nbformat_minor": 0,
  "metadata": {
    "colab": {
      "name": "UTS_Januar.ipynb",
      "provenance": [],
      "authorship_tag": "ABX9TyP+Ej5zjnzTRkqoOaJlFX/S",
      "include_colab_link": true
    },
    "kernelspec": {
      "name": "python3",
      "display_name": "Python 3"
    },
    "language_info": {
      "name": "python"
    }
  },
  "cells": [
    {
      "cell_type": "markdown",
      "metadata": {
        "id": "view-in-github",
        "colab_type": "text"
      },
      "source": [
        "<a href=\"https://colab.research.google.com/github/JanuarLum/daa2/blob/main/UTS_Januar.ipynb\" target=\"_parent\"><img src=\"https://colab.research.google.com/assets/colab-badge.svg\" alt=\"Open In Colab\"/></a>"
      ]
    },
    {
      "cell_type": "code",
      "metadata": {
        "id": "xgjK_rZ4rsSg"
      },
      "source": [
        "import numpy as np"
      ],
      "execution_count": 11,
      "outputs": []
    },
    {
      "cell_type": "code",
      "metadata": {
        "id": "O4SWAIkKqEGo"
      },
      "source": [
        "def SoalPertama(list, item):\n",
        "  index = 0\n",
        "  found = False\n",
        "\n",
        "  while index < len(list) and found is False:\n",
        "    if list[index] == item:\n",
        "      found = True\n",
        "    else:\n",
        "      index = index + 1\n",
        "  return found"
      ],
      "execution_count": 28,
      "outputs": []
    },
    {
      "cell_type": "code",
      "metadata": {
        "colab": {
          "base_uri": "https://localhost:8080/"
        },
        "id": "nIDoKG6PtzD4",
        "outputId": "518e40e2-b9ef-4e92-8ad5-fc51b0b8cb98"
      },
      "source": [
        "list = [2020071011,2020071015,2020071006,2020071019,2020071048,2020071001,2020071040,2020071046]\n",
        "print(SoalPertama(list, 2020071048))"
      ],
      "execution_count": 30,
      "outputs": [
        {
          "output_type": "stream",
          "name": "stdout",
          "text": [
            "True\n"
          ]
        }
      ]
    },
    {
      "cell_type": "code",
      "metadata": {
        "id": "nj3J2XuCu3Qv"
      },
      "source": [
        "def medianofArray(daa,imk,n):\n",
        "  m1=-1\n",
        "  m2=-1\n",
        "  count=0\n",
        "  i=j=0\n",
        "  while count<n+1:\n",
        "    count+=1\n",
        "    if i==n:\n",
        "      m1=m2\n",
        "      m2=imk[0]\n",
        "      break\n",
        "    if j==n:\n",
        "      m1=m2\n",
        "      m2=daa[0]\n",
        "      break\n",
        "    if daa[i]<imk[j]:\n",
        "      m1=m2\n",
        "      m2=daa[i]\n",
        "      i+=1\n",
        "    else:\n",
        "      m1=m2\n",
        "      m2=imk[j]\n",
        "      j+=1\n",
        "  return (m1+m2)//2"
      ],
      "execution_count": 23,
      "outputs": []
    },
    {
      "cell_type": "code",
      "metadata": {
        "colab": {
          "base_uri": "https://localhost:8080/"
        },
        "id": "O8y91abVvet9",
        "outputId": "4c91db8b-26a5-439e-c77d-73510efe37eb"
      },
      "source": [
        "daa=[80, 88, 85, 82, 86, 87, 90] \n",
        "imk=[78, 80, 77, 76, 82, 83, 75] \n",
        "print(medianofArray(daa,imk,len(daa)))"
      ],
      "execution_count": 24,
      "outputs": [
        {
          "output_type": "stream",
          "name": "stdout",
          "text": [
            "79\n"
          ]
        }
      ]
    },
    {
      "cell_type": "code",
      "metadata": {
        "colab": {
          "base_uri": "https://localhost:8080/"
        },
        "id": "p8KGYqS9xG1e",
        "outputId": "2d573072-8ba0-4388-d666-a22b56975dd1"
      },
      "source": [
        "nterms = int(10)\n",
        "n1, n2 = 0, 1\n",
        "count = 0\n",
        "\n",
        "if nterms <= 0:\n",
        "  print(\"Masukkan bilangan dengan benar\")\n",
        "elif nterms == 1:\n",
        "  print(\"Deret urutan ke-\", nterms,\":\")\n",
        "  print(n1)\n",
        "else:\n",
        "  print(\"Urutan deret: \")\n",
        "  while count < nterms:\n",
        "    print(n1)\n",
        "    nth = n1+n2\n",
        "    n1 = n2\n",
        "    n2 = nth\n",
        "    count += 1"
      ],
      "execution_count": 38,
      "outputs": [
        {
          "output_type": "stream",
          "name": "stdout",
          "text": [
            "Urutan deret: \n",
            "0\n",
            "1\n",
            "1\n",
            "2\n",
            "3\n",
            "5\n",
            "8\n",
            "13\n",
            "21\n",
            "34\n"
          ]
        }
      ]
    }
  ]
}