{
  "nbformat": 4,
  "nbformat_minor": 0,
  "metadata": {
    "colab": {
      "name": "DAA3",
      "provenance": [],
      "authorship_tag": "ABX9TyNhJe0qimZzKGivpilLnJ5D",
      "include_colab_link": true
    },
    "kernelspec": {
      "name": "python3",
      "display_name": "Python 3"
    },
    "language_info": {
      "name": "python"
    }
  },
  "cells": [
    {
      "cell_type": "markdown",
      "metadata": {
        "id": "view-in-github",
        "colab_type": "text"
      },
      "source": [
        "<a href=\"https://colab.research.google.com/github/JanuarLum/daa2/blob/main/DAA3.ipynb\" target=\"_parent\"><img src=\"https://colab.research.google.com/assets/colab-badge.svg\" alt=\"Open In Colab\"/></a>"
      ]
    },
    {
      "cell_type": "markdown",
      "metadata": {
        "id": "qN3z1JWnfM4O"
      },
      "source": [
        "DAA 19 Sept 21"
      ]
    },
    {
      "cell_type": "code",
      "metadata": {
        "id": "n1Pm4TGHcHxT"
      },
      "source": [
        "import numpy as np"
      ],
      "execution_count": 101,
      "outputs": []
    },
    {
      "cell_type": "code",
      "metadata": {
        "colab": {
          "base_uri": "https://localhost:8080/"
        },
        "id": "gNaKadfDdtX8",
        "outputId": "bd8d336d-e5da-4842-b0ef-24058bde3540"
      },
      "source": [
        "#List\n",
        "aList = [\"John\",33,\"Toronto\",True]\n",
        "print(aList)"
      ],
      "execution_count": 2,
      "outputs": [
        {
          "output_type": "stream",
          "name": "stdout",
          "text": [
            "['John', 33, 'Toronto', True]\n"
          ]
        }
      ]
    },
    {
      "cell_type": "code",
      "metadata": {
        "colab": {
          "base_uri": "https://localhost:8080/"
        },
        "id": "VzllXbIuelhR",
        "outputId": "c0bec28b-f1d4-4671-a5a1-94b4e7447ae4"
      },
      "source": [
        "aList = [\"Januar\",2020071003,\"Informatika\",\"Desain dan Analisis Algoritma\",\"15-09-2021\",\"Universitas Pembangunan Jaya\"]\n",
        "print(aList)"
      ],
      "execution_count": 9,
      "outputs": [
        {
          "output_type": "stream",
          "name": "stdout",
          "text": [
            "['Januar', 2020071003, 'Informatika', 'Desain dan Analisis Algoritma', '15-09-2021', 'Universitas Pembangunan Jaya']\n"
          ]
        }
      ]
    },
    {
      "cell_type": "code",
      "metadata": {
        "colab": {
          "base_uri": "https://localhost:8080/",
          "height": 35
        },
        "id": "GjUL3q41f9Pb",
        "outputId": "93945c70-6dd3-4e24-bd1c-009202b651dd"
      },
      "source": [
        "bin_colors=['Red','Green','Blue','Yellow']\n",
        "bin_colors[1]"
      ],
      "execution_count": 12,
      "outputs": [
        {
          "output_type": "execute_result",
          "data": {
            "application/vnd.google.colaboratory.intrinsic+json": {
              "type": "string"
            },
            "text/plain": [
              "'Green'"
            ]
          },
          "metadata": {},
          "execution_count": 12
        }
      ]
    },
    {
      "cell_type": "code",
      "metadata": {
        "colab": {
          "base_uri": "https://localhost:8080/"
        },
        "id": "LigMTsAWlzOT",
        "outputId": "3ada9cea-7deb-4722-9ff2-5ae2be9abf0d"
      },
      "source": [
        "#Tuple\n",
        "bin_name=['Januar Putra']\n",
        "for Mahasiswa in bin_name:\n",
        "  print(\"UPJ \" + Mahasiswa)"
      ],
      "execution_count": 31,
      "outputs": [
        {
          "output_type": "stream",
          "name": "stdout",
          "text": [
            "UPJ Januar Putra\n"
          ]
        }
      ]
    },
    {
      "cell_type": "code",
      "metadata": {
        "colab": {
          "base_uri": "https://localhost:8080/"
        },
        "id": "f4qm9NY4i2YB",
        "outputId": "d3de6d9e-edb4-4416-bec5-e62b33f93675"
      },
      "source": [
        "bin_colors=['Red','Green','Blue','Yellow']\n",
        "for aColor in bin_colors:\n",
        "  print(aColor + \" Square\")"
      ],
      "execution_count": 35,
      "outputs": [
        {
          "output_type": "stream",
          "name": "stdout",
          "text": [
            "Red Square\n",
            "Green Square\n",
            "Blue Square\n",
            "Yellow Square\n"
          ]
        }
      ]
    },
    {
      "cell_type": "code",
      "metadata": {
        "colab": {
          "base_uri": "https://localhost:8080/"
        },
        "id": "2xMQJrsohFAF",
        "outputId": "84992f26-13a0-4ad6-e8af-1fd97f7a7887"
      },
      "source": [
        "bin_UPJ=['Universitas','Pembangunan','Jaya']\n",
        "bin_UPJ"
      ],
      "execution_count": 43,
      "outputs": [
        {
          "output_type": "execute_result",
          "data": {
            "text/plain": [
              "['Universitas', 'Pembangunan', 'Jaya']"
            ]
          },
          "metadata": {},
          "execution_count": 43
        }
      ]
    },
    {
      "cell_type": "code",
      "metadata": {
        "colab": {
          "base_uri": "https://localhost:8080/"
        },
        "id": "KX9A5rgsrqAZ",
        "outputId": "7b49741a-eb10-47c8-8b86-cebacedf615a"
      },
      "source": [
        "#Nested Tuple\n",
        "nested_tuple = ([100],[200,400,600],[300],[400,800])\n",
        "print(nested_tuple[2])"
      ],
      "execution_count": 56,
      "outputs": [
        {
          "output_type": "stream",
          "name": "stdout",
          "text": [
            "[300]\n"
          ]
        }
      ]
    },
    {
      "cell_type": "code",
      "metadata": {
        "colab": {
          "base_uri": "https://localhost:8080/"
        },
        "id": "J3tG7_ryr5C7",
        "outputId": "a6c34425-b6bd-4467-a7df-f1917f51cee4"
      },
      "source": [
        "#Dictonary\n",
        "bin_colors={\n",
        "    \"manual_color\":\"Yellow\",\n",
        "    \"aprroved_color\":\"Green\",\n",
        "    \"refused_color\":\"Red\"\n",
        "}\n",
        "print(bin_colors)"
      ],
      "execution_count": 57,
      "outputs": [
        {
          "output_type": "stream",
          "name": "stdout",
          "text": [
            "{'manual_color': 'Yellow', 'aprroved_color': 'Green', 'refused_color': 'Red'}\n"
          ]
        }
      ]
    },
    {
      "cell_type": "code",
      "metadata": {
        "colab": {
          "base_uri": "https://localhost:8080/",
          "height": 35
        },
        "id": "2D9W9la-taNj",
        "outputId": "6ed4c783-52b1-4f95-f4d8-a1ae844d3a29"
      },
      "source": [
        "bin_colors.get('aprroved_color')"
      ],
      "execution_count": 58,
      "outputs": [
        {
          "output_type": "execute_result",
          "data": {
            "application/vnd.google.colaboratory.intrinsic+json": {
              "type": "string"
            },
            "text/plain": [
              "'Green'"
            ]
          },
          "metadata": {},
          "execution_count": 58
        }
      ]
    },
    {
      "cell_type": "code",
      "metadata": {
        "colab": {
          "base_uri": "https://localhost:8080/",
          "height": 35
        },
        "id": "r0MWiFbithrM",
        "outputId": "75456f83-2660-4eef-f9ba-2cb492779df3"
      },
      "source": [
        "bin_colors['aprroved_color']"
      ],
      "execution_count": 59,
      "outputs": [
        {
          "output_type": "execute_result",
          "data": {
            "application/vnd.google.colaboratory.intrinsic+json": {
              "type": "string"
            },
            "text/plain": [
              "'Green'"
            ]
          },
          "metadata": {},
          "execution_count": 59
        }
      ]
    },
    {
      "cell_type": "code",
      "metadata": {
        "colab": {
          "base_uri": "https://localhost:8080/"
        },
        "id": "dz2-O_JFvBsr",
        "outputId": "1d74dbf2-7978-4626-e194-002bda7fa96d"
      },
      "source": [
        "bin_colors['aprroved_color']=\"Purple\"\n",
        "print(bin_colors)"
      ],
      "execution_count": 60,
      "outputs": [
        {
          "output_type": "stream",
          "name": "stdout",
          "text": [
            "{'manual_color': 'Yellow', 'aprroved_color': 'Purple', 'refused_color': 'Red'}\n"
          ]
        }
      ]
    },
    {
      "cell_type": "code",
      "metadata": {
        "colab": {
          "base_uri": "https://localhost:8080/"
        },
        "id": "RCG-yhqTvnSp",
        "outputId": "6a9730db-aa3d-421c-96e3-8d88e1177741"
      },
      "source": [
        "latihan={\n",
        "    \"Nama\":\"Januar Putra\",\n",
        "    \"NIM\":\"2020071003\",\n",
        "    \"Prodi\":\"Informatika\",\n",
        "    \"Universitas\":\"UPJ\"\n",
        "}\n",
        "print(latihan)"
      ],
      "execution_count": 62,
      "outputs": [
        {
          "output_type": "stream",
          "name": "stdout",
          "text": [
            "{'Nama': 'Januar Putra', 'NIM': '2020071003', 'Prodi': 'Informatika', 'Universitas': 'UPJ'}\n"
          ]
        }
      ]
    },
    {
      "cell_type": "code",
      "metadata": {
        "colab": {
          "base_uri": "https://localhost:8080/"
        },
        "id": "mYOP58LLwvla",
        "outputId": "6400a7a0-284e-4359-8cf9-82bcca5ac961"
      },
      "source": [
        "#Sets\n",
        "green = {'grass','leaves','tree'}\n",
        "print(green)"
      ],
      "execution_count": 69,
      "outputs": [
        {
          "output_type": "stream",
          "name": "stdout",
          "text": [
            "{'leaves', 'grass', 'tree'}\n"
          ]
        }
      ]
    },
    {
      "cell_type": "code",
      "metadata": {
        "colab": {
          "base_uri": "https://localhost:8080/"
        },
        "id": "hLwX6WfNzXai",
        "outputId": "c9572112-5d50-452a-f4a5-50d218ae9a52"
      },
      "source": [
        "yellow = {'blood','leaves','fire hydrant','rose'}\n",
        "red = {'dandelions','fire hydrant','leaves'}\n",
        "print(yellow|red)\n",
        "print(yellow&red)"
      ],
      "execution_count": 73,
      "outputs": [
        {
          "output_type": "stream",
          "name": "stdout",
          "text": [
            "{'leaves', 'dandelions', 'blood', 'fire hydrant', 'rose'}\n",
            "{'leaves', 'fire hydrant'}\n"
          ]
        }
      ]
    },
    {
      "cell_type": "code",
      "metadata": {
        "colab": {
          "base_uri": "https://localhost:8080/",
          "height": 142
        },
        "id": "4uWyW1vbzu1L",
        "outputId": "2521e755-9041-43f5-9651-649aa3fb1277"
      },
      "source": [
        "#DataFrames\n",
        "import pandas as pd\n",
        "df=pd.DataFrame([\n",
        "                 ['1','Fares',32,True],\n",
        "                 ['2','Elena',23,False],\n",
        "                 ['3','Steven',40,True]])\n",
        "df.columns = ['id','name','age','decision']\n",
        "df"
      ],
      "execution_count": 94,
      "outputs": [
        {
          "output_type": "execute_result",
          "data": {
            "text/html": [
              "<div>\n",
              "<style scoped>\n",
              "    .dataframe tbody tr th:only-of-type {\n",
              "        vertical-align: middle;\n",
              "    }\n",
              "\n",
              "    .dataframe tbody tr th {\n",
              "        vertical-align: top;\n",
              "    }\n",
              "\n",
              "    .dataframe thead th {\n",
              "        text-align: right;\n",
              "    }\n",
              "</style>\n",
              "<table border=\"1\" class=\"dataframe\">\n",
              "  <thead>\n",
              "    <tr style=\"text-align: right;\">\n",
              "      <th></th>\n",
              "      <th>id</th>\n",
              "      <th>name</th>\n",
              "      <th>age</th>\n",
              "      <th>decision</th>\n",
              "    </tr>\n",
              "  </thead>\n",
              "  <tbody>\n",
              "    <tr>\n",
              "      <th>0</th>\n",
              "      <td>1</td>\n",
              "      <td>Fares</td>\n",
              "      <td>32</td>\n",
              "      <td>True</td>\n",
              "    </tr>\n",
              "    <tr>\n",
              "      <th>1</th>\n",
              "      <td>2</td>\n",
              "      <td>Elena</td>\n",
              "      <td>23</td>\n",
              "      <td>False</td>\n",
              "    </tr>\n",
              "    <tr>\n",
              "      <th>2</th>\n",
              "      <td>3</td>\n",
              "      <td>Steven</td>\n",
              "      <td>40</td>\n",
              "      <td>True</td>\n",
              "    </tr>\n",
              "  </tbody>\n",
              "</table>\n",
              "</div>"
            ],
            "text/plain": [
              "  id    name  age  decision\n",
              "0  1   Fares   32      True\n",
              "1  2   Elena   23     False\n",
              "2  3  Steven   40      True"
            ]
          },
          "metadata": {},
          "execution_count": 94
        }
      ]
    },
    {
      "cell_type": "code",
      "metadata": {
        "colab": {
          "base_uri": "https://localhost:8080/",
          "height": 142
        },
        "id": "cHsQJM5u5Ej_",
        "outputId": "358aafa4-afdf-4f71-d20e-83fac8a48c89"
      },
      "source": [
        "df[['name','age']]"
      ],
      "execution_count": 91,
      "outputs": [
        {
          "output_type": "execute_result",
          "data": {
            "text/html": [
              "<div>\n",
              "<style scoped>\n",
              "    .dataframe tbody tr th:only-of-type {\n",
              "        vertical-align: middle;\n",
              "    }\n",
              "\n",
              "    .dataframe tbody tr th {\n",
              "        vertical-align: top;\n",
              "    }\n",
              "\n",
              "    .dataframe thead th {\n",
              "        text-align: right;\n",
              "    }\n",
              "</style>\n",
              "<table border=\"1\" class=\"dataframe\">\n",
              "  <thead>\n",
              "    <tr style=\"text-align: right;\">\n",
              "      <th></th>\n",
              "      <th>name</th>\n",
              "      <th>age</th>\n",
              "    </tr>\n",
              "  </thead>\n",
              "  <tbody>\n",
              "    <tr>\n",
              "      <th>0</th>\n",
              "      <td>Fares</td>\n",
              "      <td>32</td>\n",
              "    </tr>\n",
              "    <tr>\n",
              "      <th>1</th>\n",
              "      <td>Elena</td>\n",
              "      <td>23</td>\n",
              "    </tr>\n",
              "    <tr>\n",
              "      <th>2</th>\n",
              "      <td>Steven</td>\n",
              "      <td>40</td>\n",
              "    </tr>\n",
              "  </tbody>\n",
              "</table>\n",
              "</div>"
            ],
            "text/plain": [
              "     name  age\n",
              "0   Fares   32\n",
              "1   Elena   23\n",
              "2  Steven   40"
            ]
          },
          "metadata": {},
          "execution_count": 91
        }
      ]
    },
    {
      "cell_type": "code",
      "metadata": {
        "colab": {
          "base_uri": "https://localhost:8080/"
        },
        "id": "si-orA505LK0",
        "outputId": "918c8575-9d28-4009-debe-edba92d0f585"
      },
      "source": [
        "df.iloc[:,3]"
      ],
      "execution_count": 92,
      "outputs": [
        {
          "output_type": "execute_result",
          "data": {
            "text/plain": [
              "0     True\n",
              "1    False\n",
              "2     True\n",
              "Name: decision, dtype: bool"
            ]
          },
          "metadata": {},
          "execution_count": 92
        }
      ]
    },
    {
      "cell_type": "code",
      "metadata": {
        "colab": {
          "base_uri": "https://localhost:8080/",
          "height": 142
        },
        "id": "rN3nrebY6KPB",
        "outputId": "2372656e-9e70-4d2e-9a72-8ca59c2d4fc1"
      },
      "source": [
        "import pandas as pd\n",
        "df=pd.DataFrame([\n",
        "                 ['1','Informatika',50,30,20],\n",
        "                 ['2','Sistem Informasi',55,30,25],\n",
        "                 ['3','Teknik Sipil',40,30,10]])\n",
        "df.columns = ['No','Prodi','Mahasiswa','Laki-laki','Perempuan']\n",
        "df"
      ],
      "execution_count": 99,
      "outputs": [
        {
          "output_type": "execute_result",
          "data": {
            "text/html": [
              "<div>\n",
              "<style scoped>\n",
              "    .dataframe tbody tr th:only-of-type {\n",
              "        vertical-align: middle;\n",
              "    }\n",
              "\n",
              "    .dataframe tbody tr th {\n",
              "        vertical-align: top;\n",
              "    }\n",
              "\n",
              "    .dataframe thead th {\n",
              "        text-align: right;\n",
              "    }\n",
              "</style>\n",
              "<table border=\"1\" class=\"dataframe\">\n",
              "  <thead>\n",
              "    <tr style=\"text-align: right;\">\n",
              "      <th></th>\n",
              "      <th>No</th>\n",
              "      <th>Prodi</th>\n",
              "      <th>Mahasiswa</th>\n",
              "      <th>Laki-laki</th>\n",
              "      <th>Perempuan</th>\n",
              "    </tr>\n",
              "  </thead>\n",
              "  <tbody>\n",
              "    <tr>\n",
              "      <th>0</th>\n",
              "      <td>1</td>\n",
              "      <td>Informatika</td>\n",
              "      <td>50</td>\n",
              "      <td>30</td>\n",
              "      <td>20</td>\n",
              "    </tr>\n",
              "    <tr>\n",
              "      <th>1</th>\n",
              "      <td>2</td>\n",
              "      <td>Sistem Informasi</td>\n",
              "      <td>55</td>\n",
              "      <td>30</td>\n",
              "      <td>25</td>\n",
              "    </tr>\n",
              "    <tr>\n",
              "      <th>2</th>\n",
              "      <td>3</td>\n",
              "      <td>Teknik Sipil</td>\n",
              "      <td>40</td>\n",
              "      <td>30</td>\n",
              "      <td>10</td>\n",
              "    </tr>\n",
              "  </tbody>\n",
              "</table>\n",
              "</div>"
            ],
            "text/plain": [
              "  No             Prodi  Mahasiswa  Laki-laki  Perempuan\n",
              "0  1       Informatika         50         30         20\n",
              "1  2  Sistem Informasi         55         30         25\n",
              "2  3      Teknik Sipil         40         30         10"
            ]
          },
          "metadata": {},
          "execution_count": 99
        }
      ]
    },
    {
      "cell_type": "code",
      "metadata": {
        "colab": {
          "base_uri": "https://localhost:8080/"
        },
        "id": "P_fOQCta7nfm",
        "outputId": "61f2c274-7dd8-49f6-b614-7fb1457457a3"
      },
      "source": [
        "myMatrix=np.array([[11,12,13],[21,22,23],[31,32,33]])\n",
        "print(myMatrix)"
      ],
      "execution_count": 102,
      "outputs": [
        {
          "output_type": "stream",
          "name": "stdout",
          "text": [
            "[[11 12 13]\n",
            " [21 22 23]\n",
            " [31 32 33]]\n"
          ]
        }
      ]
    },
    {
      "cell_type": "code",
      "metadata": {
        "colab": {
          "base_uri": "https://localhost:8080/"
        },
        "id": "ZWfiYiWt77e4",
        "outputId": "cf2819d6-a267-4ff5-8873-47f2fef2a477"
      },
      "source": [
        "print(type(myMatrix))"
      ],
      "execution_count": 103,
      "outputs": [
        {
          "output_type": "stream",
          "name": "stdout",
          "text": [
            "<class 'numpy.ndarray'>\n"
          ]
        }
      ]
    },
    {
      "cell_type": "code",
      "metadata": {
        "id": "lXRig-gs-YUa"
      },
      "source": [
        "class Stack:\n",
        "  def __init__(self):\n",
        "    self.items = []\n",
        "  def isEmpty(self):\n",
        "    return self.items == []\n",
        "  def push(self, item):\n",
        "    self.items.append(item)\n",
        "  def pop(self):\n",
        "    return self.items.pop()\n",
        "  def peek(self):\n",
        "    return self.items[len(self.items)-I]\n",
        "  def size(self):\n",
        "    return len(self.items)"
      ],
      "execution_count": 138,
      "outputs": []
    },
    {
      "cell_type": "code",
      "metadata": {
        "colab": {
          "base_uri": "https://localhost:8080/"
        },
        "id": "szYeeJdMAgsd",
        "outputId": "fb881f1a-1c07-4199-b31a-5ceb28293374"
      },
      "source": [
        "stack=Stack()\n",
        "stack.push('Red')\n",
        "stack.push('Green')\n",
        "stack.push(\"Blue\")\n",
        "stack.push(\"Yellow\")\n",
        "\n",
        "print(stack.pop())\n",
        "\n",
        "print(stack.isEmpty())"
      ],
      "execution_count": 142,
      "outputs": [
        {
          "output_type": "stream",
          "name": "stdout",
          "text": [
            "Yellow\n",
            "False\n"
          ]
        }
      ]
    },
    {
      "cell_type": "code",
      "metadata": {
        "id": "fqa2sEY1C1M0"
      },
      "source": [
        "class Queue(object):\n",
        "  def __init__(self):\n",
        "    self.items = []\n",
        "  def isEmpty(self):\n",
        "    return self.items == []\n",
        "  def enqueue(self, item):\n",
        "    self.items.insert(0,item)\n",
        "  def dequeue(self):\n",
        "    return self.items.pop()\n",
        "  def size(self):\n",
        "    return len(self.items)"
      ],
      "execution_count": 147,
      "outputs": []
    },
    {
      "cell_type": "code",
      "metadata": {
        "colab": {
          "base_uri": "https://localhost:8080/"
        },
        "id": "RfeTrL7sDDvL",
        "outputId": "19c25a68-72b6-42a2-d41a-35bde4f4ce58"
      },
      "source": [
        "queue=Queue()\n",
        "queue.enqueue('Red')\n",
        "queue.enqueue('Green')\n",
        "queue.enqueue('Blue')\n",
        "queue.enqueue('Yellow')\n",
        "print(queue.size())"
      ],
      "execution_count": 148,
      "outputs": [
        {
          "output_type": "stream",
          "name": "stdout",
          "text": [
            "4\n"
          ]
        }
      ]
    },
    {
      "cell_type": "code",
      "metadata": {
        "colab": {
          "base_uri": "https://localhost:8080/"
        },
        "id": "wJQrPuCgDSmM",
        "outputId": "65b09068-9e10-44d7-ecb9-b37b7927c581"
      },
      "source": [
        "print(queue.dequeue())\n",
        "print(queue.dequeue())"
      ],
      "execution_count": 149,
      "outputs": [
        {
          "output_type": "stream",
          "name": "stdout",
          "text": [
            "Red\n",
            "Green\n"
          ]
        }
      ]
    }
  ]
}